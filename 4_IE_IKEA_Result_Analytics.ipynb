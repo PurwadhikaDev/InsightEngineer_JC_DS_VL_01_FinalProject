{
 "cells": [
  {
   "cell_type": "markdown",
   "id": "4fd51692",
   "metadata": {
    "id": "4fd51692"
   },
   "source": [
    "# **Result Analytics**\n",
    "### Analisa feature yang errornya > MAE\n"
   ]
  },
  {
   "cell_type": "markdown",
   "id": "986f0d57",
   "metadata": {},
   "source": [
    "MAE adalah mean absolute error yang digunakan untuk menghitung rata-rata error prediksi harga. Jika error < MAE artinya model telah cukup baik untuk memprediksi harga pada produk tersebut. Sebaliknya, jika error > MAE, Artinya model tidak cukup baik melakukan prediksi harga. Dalam hal ini, perusahaan harus hati-hati untuk menentukan harga pada product-product yang errornya > MAE. Karena jika error prediksi harga besar (over price/under price), maka perusahaan akan mengalami kerugian.\n",
    "<br><br>\n",
    "Untuk mengetahui kriteria-kriteria product mana saja yang harus diberi perhatian lebih oleh perusahaan maka dilakukan analisa tiap feature yang nilai errornya > MAE."
   ]
  },
  {
   "cell_type": "code",
   "execution_count": 7,
   "id": "6e03b8be",
   "metadata": {},
   "outputs": [],
   "source": [
    "import pandas as pd\n",
    "import numpy as np\n",
    "import matplotlib.pyplot as plt\n",
    "import seaborn as sns\n",
    "import re \n",
    "import statsmodels.api as sm\n",
    "import pylab as pl\n",
    "\n",
    "from statsmodels.stats.outliers_influence import variance_inflation_factor\n",
    "from sklearn.metrics import SCORERS, r2_score, mean_absolute_error, mean_squared_error, make_scorer\n",
    "\n",
    "import warnings\n",
    "warnings.filterwarnings('ignore')"
   ]
  },
  {
   "cell_type": "code",
   "execution_count": 5,
   "id": "af0e6e85",
   "metadata": {},
   "outputs": [],
   "source": [
    "df = pd.read_csv('result_model_ikea.csv', index_col = 0).reset_index()\n",
    "df = df.drop(columns = df.columns[0])"
   ]
  },
  {
   "cell_type": "code",
   "execution_count": 6,
   "id": "332ec51f",
   "metadata": {},
   "outputs": [
    {
     "data": {
      "text/html": [
       "<div>\n",
       "<style scoped>\n",
       "    .dataframe tbody tr th:only-of-type {\n",
       "        vertical-align: middle;\n",
       "    }\n",
       "\n",
       "    .dataframe tbody tr th {\n",
       "        vertical-align: top;\n",
       "    }\n",
       "\n",
       "    .dataframe thead th {\n",
       "        text-align: right;\n",
       "    }\n",
       "</style>\n",
       "<table border=\"1\" class=\"dataframe\">\n",
       "  <thead>\n",
       "    <tr style=\"text-align: right;\">\n",
       "      <th></th>\n",
       "      <th>category</th>\n",
       "      <th>discount_flag</th>\n",
       "      <th>sellable_online</th>\n",
       "      <th>other_colors</th>\n",
       "      <th>designer</th>\n",
       "      <th>depth</th>\n",
       "      <th>height</th>\n",
       "      <th>width</th>\n",
       "      <th>y_test</th>\n",
       "      <th>y_pred</th>\n",
       "      <th>error</th>\n",
       "    </tr>\n",
       "  </thead>\n",
       "  <tbody>\n",
       "    <tr>\n",
       "      <th>0</th>\n",
       "      <td>Bookcases &amp; shelving units</td>\n",
       "      <td>0</td>\n",
       "      <td>True</td>\n",
       "      <td>False</td>\n",
       "      <td>No Designer</td>\n",
       "      <td>51.0</td>\n",
       "      <td>104.0</td>\n",
       "      <td>50.0</td>\n",
       "      <td>200.0</td>\n",
       "      <td>354.835800</td>\n",
       "      <td>154.835800</td>\n",
       "    </tr>\n",
       "    <tr>\n",
       "      <th>1</th>\n",
       "      <td>Chairs</td>\n",
       "      <td>0</td>\n",
       "      <td>True</td>\n",
       "      <td>False</td>\n",
       "      <td>Mia Lagerman</td>\n",
       "      <td>52.0</td>\n",
       "      <td>82.0</td>\n",
       "      <td>52.0</td>\n",
       "      <td>195.0</td>\n",
       "      <td>274.796729</td>\n",
       "      <td>79.796729</td>\n",
       "    </tr>\n",
       "    <tr>\n",
       "      <th>2</th>\n",
       "      <td>Tables &amp; desks</td>\n",
       "      <td>0</td>\n",
       "      <td>True</td>\n",
       "      <td>False</td>\n",
       "      <td>No Designer</td>\n",
       "      <td>3.0</td>\n",
       "      <td>70.0</td>\n",
       "      <td>4.0</td>\n",
       "      <td>25.0</td>\n",
       "      <td>137.937652</td>\n",
       "      <td>112.937652</td>\n",
       "    </tr>\n",
       "    <tr>\n",
       "      <th>3</th>\n",
       "      <td>Sofas &amp; armchairs</td>\n",
       "      <td>0</td>\n",
       "      <td>True</td>\n",
       "      <td>True</td>\n",
       "      <td>No Designer</td>\n",
       "      <td>55.0</td>\n",
       "      <td>83.0</td>\n",
       "      <td>80.0</td>\n",
       "      <td>350.0</td>\n",
       "      <td>283.610234</td>\n",
       "      <td>66.389766</td>\n",
       "    </tr>\n",
       "    <tr>\n",
       "      <th>4</th>\n",
       "      <td>Wardrobes</td>\n",
       "      <td>1</td>\n",
       "      <td>True</td>\n",
       "      <td>False</td>\n",
       "      <td>Ehlén Johansson</td>\n",
       "      <td>50.0</td>\n",
       "      <td>350.0</td>\n",
       "      <td>91.0</td>\n",
       "      <td>750.0</td>\n",
       "      <td>1352.321202</td>\n",
       "      <td>602.321202</td>\n",
       "    </tr>\n",
       "    <tr>\n",
       "      <th>...</th>\n",
       "      <td>...</td>\n",
       "      <td>...</td>\n",
       "      <td>...</td>\n",
       "      <td>...</td>\n",
       "      <td>...</td>\n",
       "      <td>...</td>\n",
       "      <td>...</td>\n",
       "      <td>...</td>\n",
       "      <td>...</td>\n",
       "      <td>...</td>\n",
       "      <td>...</td>\n",
       "    </tr>\n",
       "    <tr>\n",
       "      <th>862</th>\n",
       "      <td>Bookcases &amp; shelving units</td>\n",
       "      <td>1</td>\n",
       "      <td>True</td>\n",
       "      <td>True</td>\n",
       "      <td>Francis Cayouette</td>\n",
       "      <td>60.0</td>\n",
       "      <td>14.0</td>\n",
       "      <td>38.0</td>\n",
       "      <td>18.0</td>\n",
       "      <td>64.804670</td>\n",
       "      <td>46.804670</td>\n",
       "    </tr>\n",
       "    <tr>\n",
       "      <th>863</th>\n",
       "      <td>TV &amp; media furniture</td>\n",
       "      <td>0</td>\n",
       "      <td>True</td>\n",
       "      <td>True</td>\n",
       "      <td>No Designer</td>\n",
       "      <td>40.0</td>\n",
       "      <td>202.0</td>\n",
       "      <td>60.0</td>\n",
       "      <td>420.0</td>\n",
       "      <td>751.541643</td>\n",
       "      <td>331.541643</td>\n",
       "    </tr>\n",
       "    <tr>\n",
       "      <th>864</th>\n",
       "      <td>Wardrobes</td>\n",
       "      <td>1</td>\n",
       "      <td>True</td>\n",
       "      <td>False</td>\n",
       "      <td>Ehlén Johansson</td>\n",
       "      <td>55.0</td>\n",
       "      <td>216.0</td>\n",
       "      <td>164.0</td>\n",
       "      <td>1245.0</td>\n",
       "      <td>1424.247536</td>\n",
       "      <td>179.247536</td>\n",
       "    </tr>\n",
       "    <tr>\n",
       "      <th>865</th>\n",
       "      <td>Sofas &amp; armchairs</td>\n",
       "      <td>0</td>\n",
       "      <td>True</td>\n",
       "      <td>True</td>\n",
       "      <td>Ola Wihlborg</td>\n",
       "      <td>99.0</td>\n",
       "      <td>83.0</td>\n",
       "      <td>192.0</td>\n",
       "      <td>4190.0</td>\n",
       "      <td>2315.279375</td>\n",
       "      <td>1874.720625</td>\n",
       "    </tr>\n",
       "    <tr>\n",
       "      <th>866</th>\n",
       "      <td>Wardrobes</td>\n",
       "      <td>1</td>\n",
       "      <td>True</td>\n",
       "      <td>False</td>\n",
       "      <td>No Designer</td>\n",
       "      <td>57.0</td>\n",
       "      <td>251.0</td>\n",
       "      <td>140.0</td>\n",
       "      <td>1560.0</td>\n",
       "      <td>1488.183889</td>\n",
       "      <td>71.816111</td>\n",
       "    </tr>\n",
       "  </tbody>\n",
       "</table>\n",
       "<p>867 rows × 11 columns</p>\n",
       "</div>"
      ],
      "text/plain": [
       "                       category  discount_flag  sellable_online  other_colors  \\\n",
       "0    Bookcases & shelving units              0             True         False   \n",
       "1                        Chairs              0             True         False   \n",
       "2                Tables & desks              0             True         False   \n",
       "3             Sofas & armchairs              0             True          True   \n",
       "4                     Wardrobes              1             True         False   \n",
       "..                          ...            ...              ...           ...   \n",
       "862  Bookcases & shelving units              1             True          True   \n",
       "863        TV & media furniture              0             True          True   \n",
       "864                   Wardrobes              1             True         False   \n",
       "865           Sofas & armchairs              0             True          True   \n",
       "866                   Wardrobes              1             True         False   \n",
       "\n",
       "              designer  depth  height  width  y_test       y_pred        error  \n",
       "0          No Designer   51.0   104.0   50.0   200.0   354.835800   154.835800  \n",
       "1         Mia Lagerman   52.0    82.0   52.0   195.0   274.796729    79.796729  \n",
       "2          No Designer    3.0    70.0    4.0    25.0   137.937652   112.937652  \n",
       "3          No Designer   55.0    83.0   80.0   350.0   283.610234    66.389766  \n",
       "4      Ehlén Johansson   50.0   350.0   91.0   750.0  1352.321202   602.321202  \n",
       "..                 ...    ...     ...    ...     ...          ...          ...  \n",
       "862  Francis Cayouette   60.0    14.0   38.0    18.0    64.804670    46.804670  \n",
       "863        No Designer   40.0   202.0   60.0   420.0   751.541643   331.541643  \n",
       "864    Ehlén Johansson   55.0   216.0  164.0  1245.0  1424.247536   179.247536  \n",
       "865       Ola Wihlborg   99.0    83.0  192.0  4190.0  2315.279375  1874.720625  \n",
       "866        No Designer   57.0   251.0  140.0  1560.0  1488.183889    71.816111  \n",
       "\n",
       "[867 rows x 11 columns]"
      ]
     },
     "execution_count": 6,
     "metadata": {},
     "output_type": "execute_result"
    }
   ],
   "source": [
    "df"
   ]
  },
  {
   "cell_type": "markdown",
   "id": "8d97adb2",
   "metadata": {},
   "source": [
    "### Error Percentage"
   ]
  },
  {
   "cell_type": "code",
   "execution_count": 24,
   "id": "17a3257e",
   "metadata": {},
   "outputs": [],
   "source": [
    "mae = mean_absolute_error(df.y_test,df.y_pred)\n",
    "underMAE = df[df.error <= mae]['category'].count()\n",
    "moreMAE = df[df.error > mae]['category'].count()\n",
    "\n",
    "slicingMAE = pd.DataFrame({'category': ['under MAE','higher MAE'],\n",
    "                             'total': [underMAE,moreMAE]})"
   ]
  },
  {
   "cell_type": "code",
   "execution_count": 26,
   "id": "19c6073d",
   "metadata": {},
   "outputs": [
    {
     "data": {
      "image/png": "[encoded data removed]",
      "text/plain": [
       "<Figure size 504x360 with 1 Axes>"
      ]
     },
     "metadata": {},
     "output_type": "display_data"
    }
   ],
   "source": [
    "colors = ['#DE3163', '#DFFF00']\n",
    "# only \"explode\" \n",
    "explode = (0, 0.1)  \n",
    "\n",
    "plt.figure(figsize=[7, 5])\n",
    "plt.pie(slicingMAE.total, explode=explode, labels=['under MAE','higher MAE'], autopct='%1.1f%%', colors=colors, pctdistance=1.5, shadow=True)\n",
    "plt.title('Error Percentage', fontsize = 16, fontweight='bold')\n",
    "\n",
    "#draw circle\n",
    "centre_circle = plt.Circle((0,0),0.50,fc='white')\n",
    "fig = plt.gcf()\n",
    "fig.gca().add_artist(centre_circle)\n",
    "\n",
    "# Equal aspect ratio ensures that pie is drawn as a circle\n",
    "plt.axis('equal')  \n",
    "plt.tight_layout()\n",
    "plt.show()"
   ]
  },
  {
   "cell_type": "markdown",
   "id": "176b42ae",
   "metadata": {},
   "source": [
    "Pertama, harus dilakukan pemetaan percentage terlebih dahulu terhadap data mana yang masuk dalam kategori < MAE dan data mana yang masuk kategori > MAE.\n",
    "Terdapat 68.7% data yang prediksi harganya < MAE. Artinya model dapat memperkirakan harga product dengan baik pada data-data ini. Sedangkan sisanya, sebesar 31.3%, perlu dianalisa lebih lanjut di tiap featurenya."
   ]
  },
  {
   "cell_type": "markdown",
   "id": "79d3918d",
   "metadata": {},
   "source": [
    "### Jumlah kategori yang error prediksi harganya > MAE (prediksi errornya besar)"
   ]
  },
  {
   "cell_type": "code",
   "execution_count": 87,
   "id": "45088b91",
   "metadata": {},
   "outputs": [
    {
     "data": {
      "image/png": "[encoded data removed]",
      "text/plain": [
       "<Figure size 720x504 with 1 Axes>"
      ]
     },
     "metadata": {
      "needs_background": "light"
     },
     "output_type": "display_data"
    }
   ],
   "source": [
    "plt.figure(figsize=[10, 7])\n",
    "result = df[df['error'] > mae]['category'].value_counts().reset_index()\n",
    "sns.barplot(data=result, y='index', x='category', palette='rocket')\n",
    "plt.title('Jumlah category above MAE', fontsize = 16, fontweight='bold')\n",
    "plt.xlabel('jumlah', fontsize = 13)\n",
    "plt.ylabel('category', fontsize = 13)\n",
    "plt.show()"
   ]
  },
  {
   "cell_type": "markdown",
   "id": "181ea8d6",
   "metadata": {},
   "source": [
    "Dari grafik di atas dapat dilihat bahwa category product Sofa & armchairs menyumbangkan jumlah terbesar dalam meningkatnya prediksi harga error. Diikuti oleh category Bookcases & shelving units kemudian Beds dan Wardobes. Perusahaan harus berhati-hati dalam menentukan harga yang productnya termasuk pada category tersebut (Terutama Sofa & armchairs)."
   ]
  },
  {
   "cell_type": "markdown",
   "id": "6aaf957e",
   "metadata": {},
   "source": [
    "### Designer yang error prediksi harganya > MAE"
   ]
  },
  {
   "cell_type": "code",
   "execution_count": 68,
   "id": "b97c8a67",
   "metadata": {},
   "outputs": [
    {
     "data": {
      "image/png": "[encoded data removed]",
      "text/plain": [
       "<Figure size 720x216 with 1 Axes>"
      ]
     },
     "metadata": {
      "needs_background": "light"
     },
     "output_type": "display_data"
    }
   ],
   "source": [
    "plt.figure(figsize=[10, 3])\n",
    "result = df[df['error'] > mae]['designer'].value_counts().reset_index().sort_values('designer', ascending=False)[:10]\n",
    "sns.barplot(data=result, y='index', x='designer', palette='rocket')\n",
    "plt.title('Designer above MAE', fontsize = 16, fontweight='bold')\n",
    "plt.xlabel('jumlah', fontsize = 13)\n",
    "plt.ylabel('designer', fontsize = 13)\n",
    "plt.show()"
   ]
  },
  {
   "cell_type": "markdown",
   "id": "ecf26561",
   "metadata": {},
   "source": [
    "Sedangkan pada feature designer, product yang tidak diketahui nama designernya sangat berpengaruh terhadap besarnya prediksi error harga. Product dengan designer Ehlen Johansson dan Ola Wihlborg merupakan urutan ke 2 dan 3 yang menyumbangkan tingginya prediksi error harga."
   ]
  },
  {
   "cell_type": "markdown",
   "id": "e6c39aee",
   "metadata": {},
   "source": [
    "### Analisa Depth, Height, width Product"
   ]
  },
  {
   "cell_type": "markdown",
   "id": "8a290865",
   "metadata": {},
   "source": [
    "#### Kedalaman product yang error prediksi harganya > MAE"
   ]
  },
  {
   "cell_type": "code",
   "execution_count": 74,
   "id": "41d03ba6",
   "metadata": {},
   "outputs": [
    {
     "data": {
      "image/png": "[encoded data removed]",
      "text/plain": [
       "<Figure size 720x216 with 1 Axes>"
      ]
     },
     "metadata": {
      "needs_background": "light"
     },
     "output_type": "display_data"
    }
   ],
   "source": [
    "plt.figure(figsize=[10, 3])\n",
    "result = df[df['error'] > mae]['depth'].value_counts().reset_index().sort_values('depth', ascending=False)[:10]\n",
    "result['index'] = result['index'].astype(str) \n",
    "sns.barplot(data=result, y='index', x='depth', palette='rocket')\n",
    "plt.title('Depth product above MAE', fontsize = 16, fontweight='bold')\n",
    "plt.xlabel('jumlah', fontsize = 13)\n",
    "plt.ylabel('depth of product', fontsize = 13)\n",
    "plt.show()"
   ]
  },
  {
   "cell_type": "markdown",
   "id": "2144e56c",
   "metadata": {},
   "source": [
    "#### Tinggi product yang error prediksi harganya > MAE"
   ]
  },
  {
   "cell_type": "code",
   "execution_count": 76,
   "id": "c8c48331",
   "metadata": {},
   "outputs": [
    {
     "data": {
      "image/png": "[encoded data removed]",
      "text/plain": [
       "<Figure size 720x216 with 1 Axes>"
      ]
     },
     "metadata": {
      "needs_background": "light"
     },
     "output_type": "display_data"
    }
   ],
   "source": [
    "plt.figure(figsize=[10, 3])\n",
    "result = df[df['error'] > mae]['height'].value_counts().reset_index().sort_values('height', ascending=False)[:10]\n",
    "result['index'] = result['index'].astype(str) \n",
    "sns.barplot(data=result, y='index', x='height', palette='rocket')\n",
    "plt.title('Height product above MAE', fontsize = 16, fontweight='bold')\n",
    "plt.xlabel('jumlah', fontsize = 13)\n",
    "plt.ylabel('height of product', fontsize = 13)\n",
    "plt.show()"
   ]
  },
  {
   "cell_type": "markdown",
   "id": "c91165a5",
   "metadata": {},
   "source": [
    "#### Lebar product yang error prediksi harganya > MAE"
   ]
  },
  {
   "cell_type": "code",
   "execution_count": 77,
   "id": "46f57397",
   "metadata": {},
   "outputs": [
    {
     "data": {
      "image/png": "[encoded data removed]",
      "text/plain": [
       "<Figure size 720x216 with 1 Axes>"
      ]
     },
     "metadata": {
      "needs_background": "light"
     },
     "output_type": "display_data"
    }
   ],
   "source": [
    "plt.figure(figsize=[10, 3])\n",
    "result = df[df['error'] > mae]['width'].value_counts().reset_index().sort_values('width', ascending=False)[:10]\n",
    "result['index'] = result['index'].astype(str) \n",
    "sns.barplot(data=result, y='index', x='width', palette='rocket')\n",
    "plt.title('Width product above MAE', fontsize = 16, fontweight='bold')\n",
    "plt.xlabel('jumlah', fontsize = 13)\n",
    "plt.ylabel('width of product', fontsize = 13)\n",
    "plt.show()"
   ]
  },
  {
   "cell_type": "markdown",
   "id": "1882758b",
   "metadata": {},
   "source": [
    "Dari data diatas dapat dilihat bahwa product dengan ukuran tertentu memberikan pengaruh terhadap tingginya prediksi error harga. Maka perusahaan sebaiknya memberikan perhatian lebih pada product dengan ukuran  kedalaman 40 - 55 cm, tinggi 74 - 83 cm, dan lebar 80 cm untuk memperkecil error prediksi harga."
   ]
  },
  {
   "cell_type": "markdown",
   "id": "6f46f5d0",
   "metadata": {},
   "source": [
    "### Jenis penjualan (sellable_online/tdk) yang error prediksi harganya > MAE"
   ]
  },
  {
   "cell_type": "code",
   "execution_count": 82,
   "id": "ef6b4e96",
   "metadata": {},
   "outputs": [
    {
     "data": {
      "text/html": [
       "<div>\n",
       "<style scoped>\n",
       "    .dataframe tbody tr th:only-of-type {\n",
       "        vertical-align: middle;\n",
       "    }\n",
       "\n",
       "    .dataframe tbody tr th {\n",
       "        vertical-align: top;\n",
       "    }\n",
       "\n",
       "    .dataframe thead th {\n",
       "        text-align: right;\n",
       "    }\n",
       "</style>\n",
       "<table border=\"1\" class=\"dataframe\">\n",
       "  <thead>\n",
       "    <tr style=\"text-align: right;\">\n",
       "      <th></th>\n",
       "      <th>index</th>\n",
       "      <th>sellable_online</th>\n",
       "    </tr>\n",
       "  </thead>\n",
       "  <tbody>\n",
       "    <tr>\n",
       "      <th>0</th>\n",
       "      <td>True</td>\n",
       "      <td>271</td>\n",
       "    </tr>\n",
       "  </tbody>\n",
       "</table>\n",
       "</div>"
      ],
      "text/plain": [
       "   index  sellable_online\n",
       "0   True              271"
      ]
     },
     "execution_count": 82,
     "metadata": {},
     "output_type": "execute_result"
    }
   ],
   "source": [
    "result = df[df['error'] > mae]['sellable_online'].value_counts().reset_index()\n",
    "result"
   ]
  },
  {
   "cell_type": "markdown",
   "id": "ee519e08",
   "metadata": {},
   "source": [
    "Product yang prediksi errornya besar adalah product yang dapat dijual secara online. Hal ini disebabkan karena memang sebagian besar product IKEA memang dapat dijual secara online. Sehingga perusahaan tidak perlu memikirkan kriteria ini."
   ]
  },
  {
   "cell_type": "markdown",
   "id": "87507c73",
   "metadata": {},
   "source": [
    "### Pilihan warna yang error prediksi harganya > MAE"
   ]
  },
  {
   "cell_type": "code",
   "execution_count": 83,
   "id": "2d1d8a09",
   "metadata": {},
   "outputs": [
    {
     "data": {
      "text/html": [
       "<div>\n",
       "<style scoped>\n",
       "    .dataframe tbody tr th:only-of-type {\n",
       "        vertical-align: middle;\n",
       "    }\n",
       "\n",
       "    .dataframe tbody tr th {\n",
       "        vertical-align: top;\n",
       "    }\n",
       "\n",
       "    .dataframe thead th {\n",
       "        text-align: right;\n",
       "    }\n",
       "</style>\n",
       "<table border=\"1\" class=\"dataframe\">\n",
       "  <thead>\n",
       "    <tr style=\"text-align: right;\">\n",
       "      <th></th>\n",
       "      <th>index</th>\n",
       "      <th>other_colors</th>\n",
       "    </tr>\n",
       "  </thead>\n",
       "  <tbody>\n",
       "    <tr>\n",
       "      <th>0</th>\n",
       "      <td>True</td>\n",
       "      <td>147</td>\n",
       "    </tr>\n",
       "    <tr>\n",
       "      <th>1</th>\n",
       "      <td>False</td>\n",
       "      <td>124</td>\n",
       "    </tr>\n",
       "  </tbody>\n",
       "</table>\n",
       "</div>"
      ],
      "text/plain": [
       "   index  other_colors\n",
       "0   True           147\n",
       "1  False           124"
      ]
     },
     "execution_count": 83,
     "metadata": {},
     "output_type": "execute_result"
    }
   ],
   "source": [
    "result = df[df['error'] > mae]['other_colors'].value_counts().reset_index()\n",
    "result"
   ]
  },
  {
   "cell_type": "code",
   "execution_count": 85,
   "id": "00aef7af",
   "metadata": {},
   "outputs": [
    {
     "data": {
      "image/png": "[encoded data removed]",
      "text/plain": [
       "<Figure size 504x360 with 1 Axes>"
      ]
     },
     "metadata": {},
     "output_type": "display_data"
    }
   ],
   "source": [
    "colors = ['#DE3163', '#DFFF00']\n",
    "# only \"explode\" \n",
    "explode = (0, 0.1)  \n",
    "\n",
    "plt.figure(figsize=[7, 5])\n",
    "plt.pie(result.other_colors, explode=explode, labels=['True','False'], autopct='%1.1f%%', colors=colors, pctdistance=1.5, shadow=True)\n",
    "plt.title('other_colors', fontsize = 16, fontweight='bold')\n",
    "\n",
    "#draw circle\n",
    "centre_circle = plt.Circle((0,0),0.50,fc='white')\n",
    "fig = plt.gcf()\n",
    "fig.gca().add_artist(centre_circle)\n",
    "\n",
    "# Equal aspect ratio ensures that pie is drawn as a circle\n",
    "plt.axis('equal')  \n",
    "plt.tight_layout()\n",
    "plt.show()"
   ]
  },
  {
   "cell_type": "markdown",
   "id": "1d29f504",
   "metadata": {},
   "source": [
    "Dari pemetaan diatas dapat dilihat bahwa prosentase product dengan pilihan warna dan product yang tidak ada pilihan warna mempunyai pengaruh hampir sama terhadap besarnya prediksi error harga. Sehingga perusahaan juga dapat mengabaikan feature ini."
   ]
  },
  {
   "cell_type": "markdown",
   "id": "0fb2019a",
   "metadata": {},
   "source": [
    "## Conclusion"
   ]
  },
  {
   "cell_type": "markdown",
   "id": "7aa4413c",
   "metadata": {},
   "source": [
    "Perusahaan harus lebih berhati-hati dalam menentukan harga terhadap product yang mempunyai karakteristik berikut:\n",
    "1. Product yang termasuk dalam category Sofa & armchairs, Bookcases & shelving units, Beds dan Wardobes\n",
    "1. Product yang tidak diketahui designernya\n",
    "1. Product dengan ukuran kedalaman 40 - 55 cm\n",
    "1. Product dengantinggi 74 - 83 cm, dan \n",
    "1. Product dengan lebar 80 cm\n",
    "\n",
    "Product dengan karakteristik diatas berpengaruh terhadap besarnya error dalam prediksi harga. Karena jika error prediksi harga besar (over price/under price), maka perusahaan akan mengalami kerugian."
   ]
  },
  {
   "cell_type": "code",
   "execution_count": null,
   "id": "4e2b7c7f",
   "metadata": {},
   "outputs": [],
   "source": []
  }
 ],
 "metadata": {
  "kernelspec": {
   "display_name": "Python 3",
   "language": "python",
   "name": "python3"
  },
  "language_info": {
   "codemirror_mode": {
    "name": "ipython",
    "version": 3
   },
   "file_extension": ".py",
   "mimetype": "text/x-python",
   "name": "python",
   "nbconvert_exporter": "python",
   "pygments_lexer": "ipython3",
   "version": "3.8.8"
  }
 },
 "nbformat": 4,
 "nbformat_minor": 5
}
